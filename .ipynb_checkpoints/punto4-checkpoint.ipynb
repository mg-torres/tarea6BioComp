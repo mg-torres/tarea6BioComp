{
 "cells": [
  {
   "cell_type": "code",
   "execution_count": 21,
   "id": "aa39cc27-d650-4eaf-be0a-ef1f57e36389",
   "metadata": {},
   "outputs": [],
   "source": [
    "#Importar librerías\n",
    "from sklearn.naive_bayes import GaussianNB\n",
    "from sklearn import metrics\n",
    "from sklearn.model_selection import train_test_split\n",
    "import pandas as pd\n",
    "import numpy as np\n",
    "import matplotlib.pyplot as plt\n",
    "import seaborn as sns\n",
    "# Para evaluar el modelo\n",
    "from sklearn.metrics import confusion_matrix, classification_report, precision_score, recall_score, f1_score, accuracy_score\n",
    "from sklearn.metrics import plot_confusion_matrix\n",
    "\n",
    "\n"
   ]
  },
  {
   "cell_type": "code",
   "execution_count": 3,
   "id": "235e6296-3c7b-42ce-b1e9-beb8dff6c63f",
   "metadata": {},
   "outputs": [
    {
     "data": {
      "text/html": [
       "<div>\n",
       "<style scoped>\n",
       "    .dataframe tbody tr th:only-of-type {\n",
       "        vertical-align: middle;\n",
       "    }\n",
       "\n",
       "    .dataframe tbody tr th {\n",
       "        vertical-align: top;\n",
       "    }\n",
       "\n",
       "    .dataframe thead th {\n",
       "        text-align: right;\n",
       "    }\n",
       "</style>\n",
       "<table border=\"1\" class=\"dataframe\">\n",
       "  <thead>\n",
       "    <tr style=\"text-align: right;\">\n",
       "      <th></th>\n",
       "      <th>Location</th>\n",
       "      <th>Allele</th>\n",
       "      <th>SYMBOL</th>\n",
       "      <th>Consequence</th>\n",
       "      <th>Protein_position</th>\n",
       "      <th>SIFT</th>\n",
       "      <th>PolyPhen</th>\n",
       "      <th>AF</th>\n",
       "      <th>CADD_PHRED</th>\n",
       "      <th>LoFtool</th>\n",
       "      <th>c</th>\n",
       "      <th>phyloP100way_vertebrate</th>\n",
       "      <th>BLOSUM62</th>\n",
       "    </tr>\n",
       "  </thead>\n",
       "  <tbody>\n",
       "    <tr>\n",
       "      <th>0</th>\n",
       "      <td>\\n1:1232800-1232800</td>\n",
       "      <td>C</td>\n",
       "      <td>B3GALT6</td>\n",
       "      <td>missense_variant</td>\n",
       "      <td>174</td>\n",
       "      <td>0.54</td>\n",
       "      <td>0.012</td>\n",
       "      <td>0.1066</td>\n",
       "      <td>14.22</td>\n",
       "      <td>-</td>\n",
       "      <td>2</td>\n",
       "      <td>0.466000</td>\n",
       "      <td>2</td>\n",
       "    </tr>\n",
       "    <tr>\n",
       "      <th>1</th>\n",
       "      <td>\\n1:2028260-2028260</td>\n",
       "      <td>A</td>\n",
       "      <td>GABRD</td>\n",
       "      <td>missense_variant</td>\n",
       "      <td>220</td>\n",
       "      <td>0.52</td>\n",
       "      <td>0.007</td>\n",
       "      <td>0.0058</td>\n",
       "      <td>22.1</td>\n",
       "      <td>0.0118</td>\n",
       "      <td>0</td>\n",
       "      <td>1.908000</td>\n",
       "      <td>0</td>\n",
       "    </tr>\n",
       "    <tr>\n",
       "      <th>2</th>\n",
       "      <td>\\n1:3411794-3411794</td>\n",
       "      <td>C</td>\n",
       "      <td>PRDM16</td>\n",
       "      <td>missense_variant</td>\n",
       "      <td>533</td>\n",
       "      <td>1</td>\n",
       "      <td>0</td>\n",
       "      <td>-</td>\n",
       "      <td>14.99</td>\n",
       "      <td>0.101</td>\n",
       "      <td>0</td>\n",
       "      <td>2.031000</td>\n",
       "      <td>-1</td>\n",
       "    </tr>\n",
       "    <tr>\n",
       "      <th>3</th>\n",
       "      <td>\\n1:3412095-3412095</td>\n",
       "      <td>T</td>\n",
       "      <td>PRDM16</td>\n",
       "      <td>missense_variant</td>\n",
       "      <td>633</td>\n",
       "      <td>0.01</td>\n",
       "      <td>0.015</td>\n",
       "      <td>0.1060</td>\n",
       "      <td>22.2</td>\n",
       "      <td>0.101</td>\n",
       "      <td>0</td>\n",
       "      <td>4.653000</td>\n",
       "      <td>-3</td>\n",
       "    </tr>\n",
       "    <tr>\n",
       "      <th>4</th>\n",
       "      <td>\\n1:3430888-3430888</td>\n",
       "      <td>A</td>\n",
       "      <td>PRDM16</td>\n",
       "      <td>missense_variant</td>\n",
       "      <td>1101</td>\n",
       "      <td>0.1</td>\n",
       "      <td>0.084</td>\n",
       "      <td>0.0030</td>\n",
       "      <td>15.34</td>\n",
       "      <td>0.101</td>\n",
       "      <td>0</td>\n",
       "      <td>2.224000</td>\n",
       "      <td>1</td>\n",
       "    </tr>\n",
       "  </tbody>\n",
       "</table>\n",
       "</div>"
      ],
      "text/plain": [
       "              Location Allele   SYMBOL       Consequence Protein_position  \\\n",
       "0  \\n1:1232800-1232800      C  B3GALT6  missense_variant              174   \n",
       "1  \\n1:2028260-2028260      A    GABRD  missense_variant              220   \n",
       "2  \\n1:3411794-3411794      C   PRDM16  missense_variant              533   \n",
       "3  \\n1:3412095-3412095      T   PRDM16  missense_variant              633   \n",
       "4  \\n1:3430888-3430888      A   PRDM16  missense_variant             1101   \n",
       "\n",
       "   SIFT PolyPhen      AF CADD_PHRED LoFtool  c phyloP100way_vertebrate  \\\n",
       "0  0.54    0.012  0.1066      14.22       -  2                0.466000   \n",
       "1  0.52    0.007  0.0058       22.1  0.0118  0                1.908000   \n",
       "2     1        0       -      14.99   0.101  0                2.031000   \n",
       "3  0.01    0.015  0.1060       22.2   0.101  0                4.653000   \n",
       "4   0.1    0.084  0.0030      15.34   0.101  0                2.224000   \n",
       "\n",
       "  BLOSUM62  \n",
       "0        2  \n",
       "1        0  \n",
       "2       -1  \n",
       "3       -3  \n",
       "4        1  "
      ]
     },
     "execution_count": 3,
     "metadata": {},
     "output_type": "execute_result"
    }
   ],
   "source": [
    "#Importar datos\n",
    "# Se cargan los datos. \n",
    "\n",
    "datos_BEN=pd.read_csv('BEN_2020_coding.txt', sep='\\t', lineterminator='\\r')\n",
    "datos_BEN_copia = datos_BEN.copy()\n",
    "\n",
    "\n",
    "datos_BEN_copia.head(5)\n",
    "\n",
    "\n"
   ]
  },
  {
   "cell_type": "code",
   "execution_count": 4,
   "id": "3c6c9e3a-a612-4f69-b059-b48116efb6db",
   "metadata": {},
   "outputs": [
    {
     "data": {
      "text/html": [
       "<div>\n",
       "<style scoped>\n",
       "    .dataframe tbody tr th:only-of-type {\n",
       "        vertical-align: middle;\n",
       "    }\n",
       "\n",
       "    .dataframe tbody tr th {\n",
       "        vertical-align: top;\n",
       "    }\n",
       "\n",
       "    .dataframe thead th {\n",
       "        text-align: right;\n",
       "    }\n",
       "</style>\n",
       "<table border=\"1\" class=\"dataframe\">\n",
       "  <thead>\n",
       "    <tr style=\"text-align: right;\">\n",
       "      <th></th>\n",
       "      <th>Location</th>\n",
       "      <th>Allele</th>\n",
       "      <th>SYMBOL</th>\n",
       "      <th>Consequence</th>\n",
       "      <th>Protein_position</th>\n",
       "      <th>SIFT</th>\n",
       "      <th>PolyPhen</th>\n",
       "      <th>AF</th>\n",
       "      <th>CADD_phred</th>\n",
       "      <th>LoFtool</th>\n",
       "      <th>c</th>\n",
       "      <th>phyloP100way_vertebrate</th>\n",
       "      <th>BLOSUM62</th>\n",
       "    </tr>\n",
       "  </thead>\n",
       "  <tbody>\n",
       "    <tr>\n",
       "      <th>0</th>\n",
       "      <td>1:1535372-1535372</td>\n",
       "      <td>A</td>\n",
       "      <td>TMEM240</td>\n",
       "      <td>missense_variant</td>\n",
       "      <td>170</td>\n",
       "      <td>0</td>\n",
       "      <td>0.012</td>\n",
       "      <td>-</td>\n",
       "      <td>26.8</td>\n",
       "      <td>-</td>\n",
       "      <td>0</td>\n",
       "      <td>6.997</td>\n",
       "      <td>-3</td>\n",
       "    </tr>\n",
       "    <tr>\n",
       "      <th>1</th>\n",
       "      <td>1:1804548-1804548</td>\n",
       "      <td>C</td>\n",
       "      <td>GNB1</td>\n",
       "      <td>missense_variant</td>\n",
       "      <td>101</td>\n",
       "      <td>0</td>\n",
       "      <td>0.527</td>\n",
       "      <td>-</td>\n",
       "      <td>23.7</td>\n",
       "      <td>-</td>\n",
       "      <td>0</td>\n",
       "      <td>7.839</td>\n",
       "      <td>1</td>\n",
       "    </tr>\n",
       "    <tr>\n",
       "      <th>2</th>\n",
       "      <td>1:1806503-1806503</td>\n",
       "      <td>G</td>\n",
       "      <td>GNB1</td>\n",
       "      <td>missense_variant</td>\n",
       "      <td>80</td>\n",
       "      <td>0</td>\n",
       "      <td>0.998</td>\n",
       "      <td>-</td>\n",
       "      <td>26.8</td>\n",
       "      <td>-</td>\n",
       "      <td>0</td>\n",
       "      <td>9.083</td>\n",
       "      <td>-1</td>\n",
       "    </tr>\n",
       "    <tr>\n",
       "      <th>3</th>\n",
       "      <td>1:1806509-1806509</td>\n",
       "      <td>C</td>\n",
       "      <td>GNB1</td>\n",
       "      <td>missense_variant</td>\n",
       "      <td>78</td>\n",
       "      <td>0.07</td>\n",
       "      <td>0.889</td>\n",
       "      <td>-</td>\n",
       "      <td>26.3</td>\n",
       "      <td>-</td>\n",
       "      <td>0</td>\n",
       "      <td>7.815</td>\n",
       "      <td>2</td>\n",
       "    </tr>\n",
       "    <tr>\n",
       "      <th>4</th>\n",
       "      <td>1:2228860-2228860</td>\n",
       "      <td>G</td>\n",
       "      <td>SKI</td>\n",
       "      <td>missense_variant</td>\n",
       "      <td>32</td>\n",
       "      <td>0</td>\n",
       "      <td>0.171</td>\n",
       "      <td>-</td>\n",
       "      <td>23.5</td>\n",
       "      <td>-</td>\n",
       "      <td>2</td>\n",
       "      <td>3.114</td>\n",
       "      <td>1</td>\n",
       "    </tr>\n",
       "  </tbody>\n",
       "</table>\n",
       "</div>"
      ],
      "text/plain": [
       "            Location Allele   SYMBOL       Consequence Protein_position  SIFT  \\\n",
       "0  1:1535372-1535372      A  TMEM240  missense_variant              170     0   \n",
       "1  1:1804548-1804548      C     GNB1  missense_variant              101     0   \n",
       "2  1:1806503-1806503      G     GNB1  missense_variant               80     0   \n",
       "3  1:1806509-1806509      C     GNB1  missense_variant               78  0.07   \n",
       "4  1:2228860-2228860      G      SKI  missense_variant               32     0   \n",
       "\n",
       "  PolyPhen AF CADD_phred LoFtool  c phyloP100way_vertebrate BLOSUM62  \n",
       "0    0.012  -       26.8       -  0                   6.997       -3  \n",
       "1    0.527  -       23.7       -  0                   7.839        1  \n",
       "2    0.998  -       26.8       -  0                   9.083       -1  \n",
       "3    0.889  -       26.3       -  0                   7.815        2  \n",
       "4    0.171  -       23.5       -  2                   3.114        1  "
      ]
     },
     "execution_count": 4,
     "metadata": {},
     "output_type": "execute_result"
    }
   ],
   "source": [
    "#Importar datos\n",
    "# Se cargan los datos. \n",
    "datos_PAT=pd.read_csv('PAT_2020_coding.csv')\n",
    "datos_PAT_copia = datos_PAT.copy()\n",
    "\n",
    "\n",
    "datos_PAT_copia.head(5)\n"
   ]
  },
  {
   "cell_type": "code",
   "execution_count": 6,
   "id": "141a39ce-4e7c-44be-9fac-e8297aff2f32",
   "metadata": {},
   "outputs": [],
   "source": [
    "datos_BEN_copia['AF'].replace({'-':None}, inplace = True)\n",
    "datos_BEN_copia['LoFtool'].replace({'-':None}, inplace = True)\n",
    "\n",
    "\n"
   ]
  },
  {
   "cell_type": "code",
   "execution_count": 12,
   "id": "dcfacddb-38f9-40f7-b2c8-30789bcfdaf6",
   "metadata": {},
   "outputs": [],
   "source": [
    "datos_PAT_copia['AF'].replace({'-':None}, inplace = True)\n",
    "datos_PAT_copia['LoFtool'].replace({'-':None}, inplace = True)\n"
   ]
  },
  {
   "cell_type": "code",
   "execution_count": 13,
   "id": "473d0e84-82b7-4aab-914c-165d4aada38d",
   "metadata": {},
   "outputs": [],
   "source": [
    "#Limpiar los datos\n",
    "\n",
    "datos_BEN_copia=datos_BEN_copia.dropna()\n",
    "datos_BEN_copia=datos_BEN_copia.drop_duplicates()\n",
    "\n",
    "datos_PAT_copia=datos_PAT_copia.dropna()\n",
    "datos_PAT_copia=datos_PAT_copia.drop_duplicates()\n",
    "\n",
    "\n"
   ]
  },
  {
   "cell_type": "code",
   "execution_count": 8,
   "id": "99ad276c-a713-4eb2-a7f8-d296ca1215c4",
   "metadata": {},
   "outputs": [
    {
     "data": {
      "text/html": [
       "<div>\n",
       "<style scoped>\n",
       "    .dataframe tbody tr th:only-of-type {\n",
       "        vertical-align: middle;\n",
       "    }\n",
       "\n",
       "    .dataframe tbody tr th {\n",
       "        vertical-align: top;\n",
       "    }\n",
       "\n",
       "    .dataframe thead th {\n",
       "        text-align: right;\n",
       "    }\n",
       "</style>\n",
       "<table border=\"1\" class=\"dataframe\">\n",
       "  <thead>\n",
       "    <tr style=\"text-align: right;\">\n",
       "      <th></th>\n",
       "      <th>Location</th>\n",
       "      <th>Allele</th>\n",
       "      <th>SYMBOL</th>\n",
       "      <th>Consequence</th>\n",
       "      <th>Protein_position</th>\n",
       "      <th>SIFT</th>\n",
       "      <th>PolyPhen</th>\n",
       "      <th>AF</th>\n",
       "      <th>CADD_PHRED</th>\n",
       "      <th>LoFtool</th>\n",
       "      <th>c</th>\n",
       "      <th>phyloP100way_vertebrate</th>\n",
       "      <th>BLOSUM62</th>\n",
       "    </tr>\n",
       "  </thead>\n",
       "  <tbody>\n",
       "    <tr>\n",
       "      <th>count</th>\n",
       "      <td>18442</td>\n",
       "      <td>18442</td>\n",
       "      <td>18442</td>\n",
       "      <td>18442</td>\n",
       "      <td>18442</td>\n",
       "      <td>18442</td>\n",
       "      <td>18442</td>\n",
       "      <td>18442</td>\n",
       "      <td>18442</td>\n",
       "      <td>18442</td>\n",
       "      <td>18442</td>\n",
       "      <td>18442</td>\n",
       "      <td>18442</td>\n",
       "    </tr>\n",
       "    <tr>\n",
       "      <th>unique</th>\n",
       "      <td>18442</td>\n",
       "      <td>4</td>\n",
       "      <td>2014</td>\n",
       "      <td>4</td>\n",
       "      <td>3573</td>\n",
       "      <td>102</td>\n",
       "      <td>875</td>\n",
       "      <td>2117</td>\n",
       "      <td>6623</td>\n",
       "      <td>1182</td>\n",
       "      <td>4</td>\n",
       "      <td>4741</td>\n",
       "      <td>8</td>\n",
       "    </tr>\n",
       "    <tr>\n",
       "      <th>top</th>\n",
       "      <td>\\n2:71574306-71574306</td>\n",
       "      <td>A</td>\n",
       "      <td>TTN</td>\n",
       "      <td>synonymous_variant</td>\n",
       "      <td>9</td>\n",
       "      <td>-</td>\n",
       "      <td>-</td>\n",
       "      <td>0.0002</td>\n",
       "      <td>23.3</td>\n",
       "      <td>0.971</td>\n",
       "      <td>-</td>\n",
       "      <td>-</td>\n",
       "      <td>-</td>\n",
       "    </tr>\n",
       "    <tr>\n",
       "      <th>freq</th>\n",
       "      <td>1</td>\n",
       "      <td>6374</td>\n",
       "      <td>461</td>\n",
       "      <td>11283</td>\n",
       "      <td>34</td>\n",
       "      <td>11951</td>\n",
       "      <td>11719</td>\n",
       "      <td>1855</td>\n",
       "      <td>79</td>\n",
       "      <td>469</td>\n",
       "      <td>11286</td>\n",
       "      <td>11286</td>\n",
       "      <td>11305</td>\n",
       "    </tr>\n",
       "  </tbody>\n",
       "</table>\n",
       "</div>"
      ],
      "text/plain": [
       "                     Location Allele SYMBOL         Consequence  \\\n",
       "count                   18442  18442  18442               18442   \n",
       "unique                  18442      4   2014                   4   \n",
       "top     \\n2:71574306-71574306      A    TTN  synonymous_variant   \n",
       "freq                        1   6374    461               11283   \n",
       "\n",
       "       Protein_position   SIFT PolyPhen      AF CADD_PHRED LoFtool      c  \\\n",
       "count             18442  18442    18442   18442      18442   18442  18442   \n",
       "unique             3573    102      875    2117       6623    1182      4   \n",
       "top                   9      -        -  0.0002       23.3   0.971      -   \n",
       "freq                 34  11951    11719    1855         79     469  11286   \n",
       "\n",
       "       phyloP100way_vertebrate BLOSUM62  \n",
       "count                    18442    18442  \n",
       "unique                    4741        8  \n",
       "top                          -        -  \n",
       "freq                     11286    11305  "
      ]
     },
     "execution_count": 8,
     "metadata": {},
     "output_type": "execute_result"
    }
   ],
   "source": [
    "datos_BEN_copia.describe()"
   ]
  },
  {
   "cell_type": "code",
   "execution_count": 14,
   "id": "d3dd45e4-67ed-47d0-b329-07f26de32460",
   "metadata": {},
   "outputs": [
    {
     "data": {
      "text/html": [
       "<div>\n",
       "<style scoped>\n",
       "    .dataframe tbody tr th:only-of-type {\n",
       "        vertical-align: middle;\n",
       "    }\n",
       "\n",
       "    .dataframe tbody tr th {\n",
       "        vertical-align: top;\n",
       "    }\n",
       "\n",
       "    .dataframe thead th {\n",
       "        text-align: right;\n",
       "    }\n",
       "</style>\n",
       "<table border=\"1\" class=\"dataframe\">\n",
       "  <thead>\n",
       "    <tr style=\"text-align: right;\">\n",
       "      <th></th>\n",
       "      <th>Location</th>\n",
       "      <th>Allele</th>\n",
       "      <th>SYMBOL</th>\n",
       "      <th>Consequence</th>\n",
       "      <th>Protein_position</th>\n",
       "      <th>SIFT</th>\n",
       "      <th>PolyPhen</th>\n",
       "      <th>AF</th>\n",
       "      <th>CADD_phred</th>\n",
       "      <th>LoFtool</th>\n",
       "      <th>c</th>\n",
       "      <th>phyloP100way_vertebrate</th>\n",
       "      <th>BLOSUM62</th>\n",
       "    </tr>\n",
       "  </thead>\n",
       "  <tbody>\n",
       "    <tr>\n",
       "      <th>count</th>\n",
       "      <td>462</td>\n",
       "      <td>462</td>\n",
       "      <td>462</td>\n",
       "      <td>462</td>\n",
       "      <td>462</td>\n",
       "      <td>462</td>\n",
       "      <td>462</td>\n",
       "      <td>462</td>\n",
       "      <td>462</td>\n",
       "      <td>462</td>\n",
       "      <td>462</td>\n",
       "      <td>462</td>\n",
       "      <td>462</td>\n",
       "    </tr>\n",
       "    <tr>\n",
       "      <th>unique</th>\n",
       "      <td>462</td>\n",
       "      <td>4</td>\n",
       "      <td>264</td>\n",
       "      <td>4</td>\n",
       "      <td>355</td>\n",
       "      <td>29</td>\n",
       "      <td>128</td>\n",
       "      <td>22</td>\n",
       "      <td>119</td>\n",
       "      <td>248</td>\n",
       "      <td>3</td>\n",
       "      <td>431</td>\n",
       "      <td>8</td>\n",
       "    </tr>\n",
       "    <tr>\n",
       "      <th>top</th>\n",
       "      <td>15:42401754-42401754</td>\n",
       "      <td>A</td>\n",
       "      <td>PAH</td>\n",
       "      <td>missense_variant</td>\n",
       "      <td>1</td>\n",
       "      <td>0</td>\n",
       "      <td>-</td>\n",
       "      <td>0.0002</td>\n",
       "      <td>36</td>\n",
       "      <td>0.0107</td>\n",
       "      <td>0</td>\n",
       "      <td>7.905</td>\n",
       "      <td>-</td>\n",
       "    </tr>\n",
       "    <tr>\n",
       "      <th>freq</th>\n",
       "      <td>1</td>\n",
       "      <td>192</td>\n",
       "      <td>12</td>\n",
       "      <td>305</td>\n",
       "      <td>5</td>\n",
       "      <td>212</td>\n",
       "      <td>159</td>\n",
       "      <td>315</td>\n",
       "      <td>24</td>\n",
       "      <td>12</td>\n",
       "      <td>335</td>\n",
       "      <td>7</td>\n",
       "      <td>152</td>\n",
       "    </tr>\n",
       "  </tbody>\n",
       "</table>\n",
       "</div>"
      ],
      "text/plain": [
       "                    Location Allele SYMBOL       Consequence Protein_position  \\\n",
       "count                    462    462    462               462              462   \n",
       "unique                   462      4    264                 4              355   \n",
       "top     15:42401754-42401754      A    PAH  missense_variant                1   \n",
       "freq                       1    192     12               305                5   \n",
       "\n",
       "       SIFT PolyPhen      AF CADD_phred LoFtool    c phyloP100way_vertebrate  \\\n",
       "count   462      462     462        462     462  462                     462   \n",
       "unique   29      128      22        119     248    3                     431   \n",
       "top       0        -  0.0002         36  0.0107    0                   7.905   \n",
       "freq    212      159     315         24      12  335                       7   \n",
       "\n",
       "       BLOSUM62  \n",
       "count       462  \n",
       "unique        8  \n",
       "top           -  \n",
       "freq        152  "
      ]
     },
     "execution_count": 14,
     "metadata": {},
     "output_type": "execute_result"
    }
   ],
   "source": [
    "datos_PAT_copia.describe()"
   ]
  },
  {
   "cell_type": "code",
   "execution_count": 30,
   "id": "54c75a93-73ee-490e-9a9b-f4b82a68a5ee",
   "metadata": {},
   "outputs": [
    {
     "data": {
      "text/plain": [
       "Location                   object\n",
       "Allele                     object\n",
       "SYMBOL                     object\n",
       "Consequence                object\n",
       "Protein_position           object\n",
       "SIFT                       object\n",
       "PolyPhen                   object\n",
       "AF                         object\n",
       "CADD_PHRED                 object\n",
       "LoFtool                    object\n",
       "c                          object\n",
       "phyloP100way_vertebrate    object\n",
       "BLOSUM62                   object\n",
       "dtype: object"
      ]
     },
     "execution_count": 30,
     "metadata": {},
     "output_type": "execute_result"
    }
   ],
   "source": [
    "datos_BEN_copia.dtypes"
   ]
  },
  {
   "cell_type": "code",
   "execution_count": 47,
   "id": "256d8e1d-56e8-49a8-af16-fafeb65db6be",
   "metadata": {},
   "outputs": [],
   "source": [
    "datos_BEN_copia[\"AF\"]=datos_BEN_copia[\"AF\"].astype(float) \n",
    "datos_BEN_copia[\"loFtool\"]=datos_BEN_copia[\"LoFtool\"].astype(float) \n",
    "\n",
    "datos_PAT_copia[\"AF\"]=datos_PAT_copia[\"AF\"].astype(float) \n",
    "datos_PAT_copia[\"loFtool\"]=datos_PAT_copia[\"LoFtool\"].astype(float) \n"
   ]
  },
  {
   "cell_type": "code",
   "execution_count": 41,
   "id": "0c8fc0c8-7c34-4abb-9ce4-75c8f732863f",
   "metadata": {},
   "outputs": [
    {
     "name": "stdout",
     "output_type": "stream",
     "text": [
      "Gaussian Naive Bayes model accuracy(in %): 60.76347467736688\n"
     ]
    }
   ],
   "source": [
    "#Naive Bayes para Dataset BEN\n",
    "seed = 161\n",
    "### splitting X and y into training and testing sets\n",
    "X=datos_BEN_copia[[\"AF\",\"LoFtool\"]]\n",
    "\n",
    "#Variable Objetivo\n",
    "Y=datos_BEN_copia[\"Consequence\"]\n",
    "\n",
    "X_train, X_test, Y_train, Y_test = train_test_split(X, Y, test_size=0.5, random_state=seed)\n",
    "# training the model on training set\n",
    "\n",
    "gnbBEN = GaussianNB()\n",
    "gnb.fit(X_train, Y_train)\n",
    "\n",
    "# making predictions on the testing set\n",
    "y_pred = gnb.predict(X_test)\n",
    "\n",
    "# comparing actual response values (y_test) with predicted response values (y_pred)\n",
    "\n",
    "print(\"Gaussian Naive Bayes model accuracy(in %):\", metrics.accuracy_score(Y_test, y_pred)*100)"
   ]
  },
  {
   "cell_type": "code",
   "execution_count": 36,
   "id": "aee04859-df47-4059-8827-8f2bb9016eea",
   "metadata": {},
   "outputs": [
    {
     "name": "stdout",
     "output_type": "stream",
     "text": [
      "Gaussian Naive Bayes model accuracy(in %): 77.05627705627705\n"
     ]
    }
   ],
   "source": [
    "#Naive Bayes para dataset PAT\n",
    "seed = 161\n",
    "### splitting X and y into training and testing sets\n",
    "X2=datos_PAT_copia[[\"AF\",\"LoFtool\"]]\n",
    "\n",
    "#Variable Objetivo\n",
    "Y2=datos_PAT_copia[\"Consequence\"]\n",
    "\n",
    "X2_train, X2_test, Y2_train, Y2_test = train_test_split(X2, Y2, test_size=0.5, random_state=seed)\n",
    "# training the model on training set\n",
    "\n",
    "gnbPAT = GaussianNB()\n",
    "gnb.fit(X2_train, Y2_train)\n",
    "\n",
    "# making predictions on the testing set\n",
    "y2_pred = gnb.predict(X2_test)\n",
    "\n",
    "# comparing actual response values (y_test) with predicted response values (y_pred)\n",
    "\n",
    "print(\"Gaussian Naive Bayes model accuracy(in %):\", metrics.accuracy_score(Y2_test, y2_pred)*100)"
   ]
  },
  {
   "cell_type": "code",
   "execution_count": 38,
   "id": "9ea5bebe-1ccc-4756-8beb-2093bd64f4db",
   "metadata": {},
   "outputs": [
    {
     "data": {
      "text/plain": [
       "Location                    object\n",
       "Allele                      object\n",
       "SYMBOL                      object\n",
       "Consequence                 object\n",
       "Protein_position            object\n",
       "SIFT                        object\n",
       "PolyPhen                    object\n",
       "AF                         float64\n",
       "CADD_PHRED                  object\n",
       "LoFtool                     object\n",
       "c                           object\n",
       "phyloP100way_vertebrate     object\n",
       "BLOSUM62                    object\n",
       "loFtool                    float64\n",
       "dtype: object"
      ]
     },
     "execution_count": 38,
     "metadata": {},
     "output_type": "execute_result"
    }
   ],
   "source": [
    "datos_BEN_copia.dtypes"
   ]
  },
  {
   "cell_type": "code",
   "execution_count": 44,
   "id": "4178f703-924b-4549-bbc2-e72e70ca9d24",
   "metadata": {},
   "outputs": [
    {
     "data": {
      "text/plain": [
       "array([[<AxesSubplot:title={'center':'AF'}>]], dtype=object)"
      ]
     },
     "execution_count": 44,
     "metadata": {},
     "output_type": "execute_result"
    },
    {
     "data": {
      "image/png": "[encoded data removed]",
      "text/plain": [
       "<Figure size 432x288 with 1 Axes>"
      ]
     },
     "metadata": {
      "needs_background": "light"
     },
     "output_type": "display_data"
    }
   ],
   "source": [
    "#Gráfica de distribuciones\n",
    "\n",
    "datos_BEN_copia.hist(column='AF')"
   ]
  },
  {
   "cell_type": "code",
   "execution_count": 45,
   "id": "6e294889-b955-4ba8-8c3d-74b6d36a5e27",
   "metadata": {},
   "outputs": [
    {
     "data": {
      "text/plain": [
       "array([[<AxesSubplot:title={'center':'AF'}>]], dtype=object)"
      ]
     },
     "execution_count": 45,
     "metadata": {},
     "output_type": "execute_result"
    },
    {
     "data": {
      "image/png": "[encoded data removed]",
      "text/plain": [
       "<Figure size 432x288 with 1 Axes>"
      ]
     },
     "metadata": {
      "needs_background": "light"
     },
     "output_type": "display_data"
    }
   ],
   "source": [
    "datos_PAT_copia.hist(column='AF')"
   ]
  },
  {
   "cell_type": "code",
   "execution_count": 46,
   "id": "df10d252-cc22-4758-895f-abce2f06db03",
   "metadata": {},
   "outputs": [
    {
     "data": {
      "text/plain": [
       "array([[<AxesSubplot:title={'center':'loFtool'}>]], dtype=object)"
      ]
     },
     "execution_count": 46,
     "metadata": {},
     "output_type": "execute_result"
    },
    {
     "data": {
      "image/png": "[encoded data removed]",
      "text/plain": [
       "<Figure size 432x288 with 1 Axes>"
      ]
     },
     "metadata": {
      "needs_background": "light"
     },
     "output_type": "display_data"
    }
   ],
   "source": [
    "#Gráfica de distribuciones\n",
    "\n",
    "datos_BEN_copia.hist(column='loFtool')"
   ]
  },
  {
   "cell_type": "code",
   "execution_count": 48,
   "id": "83b69244-2cc5-4672-83f6-390edca34039",
   "metadata": {},
   "outputs": [
    {
     "data": {
      "text/plain": [
       "array([[<AxesSubplot:title={'center':'loFtool'}>]], dtype=object)"
      ]
     },
     "execution_count": 48,
     "metadata": {},
     "output_type": "execute_result"
    },
    {
     "data": {
      "image/png": "[encoded data removed]",
      "text/plain": [
       "<Figure size 432x288 with 1 Axes>"
      ]
     },
     "metadata": {
      "needs_background": "light"
     },
     "output_type": "display_data"
    }
   ],
   "source": [
    "datos_PAT_copia.hist(column='loFtool')"
   ]
  },
  {
   "cell_type": "code",
   "execution_count": 49,
   "id": "d5e2e066-e82c-4d97-861c-f963c6c358c3",
   "metadata": {},
   "outputs": [
    {
     "data": {
      "image/png": "[encoded data removed]",
      "text/plain": [
       "<Figure size 432x288 with 2 Axes>"
      ]
     },
     "metadata": {
      "needs_background": "light"
     },
     "output_type": "display_data"
    }
   ],
   "source": [
    "#Matriz de confusión BEN\n",
    "\n",
    "gnbBEN =gnbBEN.fit(X_train, Y_train)\n",
    "confusion_matrix(Y_test, y_pred)\n",
    "plot_confusion_matrix(gnbBEN, X_test, Y_test)  \n",
    "plt.show()"
   ]
  },
  {
   "cell_type": "code",
   "execution_count": 50,
   "id": "346923bc-9d8e-496d-aade-829ebd1cd8d8",
   "metadata": {},
   "outputs": [
    {
     "data": {
      "image/png": "[encoded data removed]",
      "text/plain": [
       "<Figure size 432x288 with 2 Axes>"
      ]
     },
     "metadata": {
      "needs_background": "light"
     },
     "output_type": "display_data"
    }
   ],
   "source": [
    "#Matriz de confusión PAT\n",
    "gnbPAT =gnbPAT.fit(X2_train, Y2_train)\n",
    "confusion_matrix(Y2_test, y2_pred)\n",
    "\n",
    "plot_confusion_matrix(gnbPAT, X2_test, Y2_test)  \n",
    "plt.show()"
   ]
  },
  {
   "cell_type": "code",
   "execution_count": null,
   "id": "906c531b-bbc0-45db-aa87-df439ff59b82",
   "metadata": {},
   "outputs": [],
   "source": []
  }
 ],
 "metadata": {
  "kernelspec": {
   "display_name": "Python 3",
   "language": "python",
   "name": "python3"
  },
  "language_info": {
   "codemirror_mode": {
    "name": "ipython",
    "version": 3
   },
   "file_extension": ".py",
   "mimetype": "text/x-python",
   "name": "python",
   "nbconvert_exporter": "python",
   "pygments_lexer": "ipython3",
   "version": "3.8.8"
  }
 },
 "nbformat": 4,
 "nbformat_minor": 5
}
